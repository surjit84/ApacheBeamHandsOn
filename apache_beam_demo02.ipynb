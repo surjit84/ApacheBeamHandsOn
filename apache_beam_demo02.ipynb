{
  "nbformat": 4,
  "nbformat_minor": 0,
  "metadata": {
    "colab": {
      "provenance": [],
      "authorship_tag": "ABX9TyNQS+invXts34sdz9c442gO",
      "include_colab_link": true
    },
    "kernelspec": {
      "name": "python3",
      "display_name": "Python 3"
    },
    "language_info": {
      "name": "python"
    }
  },
  "cells": [
    {
      "cell_type": "markdown",
      "metadata": {
        "id": "view-in-github",
        "colab_type": "text"
      },
      "source": [
        "<a href=\"https://colab.research.google.com/github/surjit84/ApacheBeamHandsOn/blob/main/apache_beam_demo02.ipynb\" target=\"_parent\"><img src=\"https://colab.research.google.com/assets/colab-badge.svg\" alt=\"Open In Colab\"/></a>"
      ]
    },
    {
      "cell_type": "code",
      "execution_count": 4,
      "metadata": {
        "colab": {
          "base_uri": "https://localhost:8080/"
        },
        "id": "NYmA2s46pRGQ",
        "outputId": "17fd71b2-19ca-4537-ec86-9f679219596e"
      },
      "outputs": [
        {
          "output_type": "stream",
          "name": "stdout",
          "text": [
            "\u001b[2K     \u001b[90m━━━━━━━━━━━━━━━━━━━━━━━━━━━━━━━━━━━━━━━━\u001b[0m \u001b[32m14.7/14.7 MB\u001b[0m \u001b[31m28.3 MB/s\u001b[0m eta \u001b[36m0:00:00\u001b[0m\n",
            "\u001b[2K     \u001b[90m━━━━━━━━━━━━━━━━━━━━━━━━━━━━━━━━━━━━━━━━\u001b[0m \u001b[32m89.7/89.7 kB\u001b[0m \u001b[31m12.9 MB/s\u001b[0m eta \u001b[36m0:00:00\u001b[0m\n",
            "\u001b[?25h  Preparing metadata (setup.py) ... \u001b[?25l\u001b[?25hdone\n",
            "\u001b[2K     \u001b[90m━━━━━━━━━━━━━━━━━━━━━━━━━━━━━━━━━━━━━━━━\u001b[0m \u001b[32m138.7/138.7 kB\u001b[0m \u001b[31m19.8 MB/s\u001b[0m eta \u001b[36m0:00:00\u001b[0m\n",
            "\u001b[2K     \u001b[90m━━━━━━━━━━━━━━━━━━━━━━━━━━━━━━━━━━━━━━━━\u001b[0m \u001b[32m152.0/152.0 kB\u001b[0m \u001b[31m19.8 MB/s\u001b[0m eta \u001b[36m0:00:00\u001b[0m\n",
            "\u001b[?25h  Preparing metadata (setup.py) ... \u001b[?25l\u001b[?25hdone\n",
            "\u001b[2K     \u001b[90m━━━━━━━━━━━━━━━━━━━━━━━━━━━━━━━━━━━━━━━━\u001b[0m \u001b[32m3.1/3.1 MB\u001b[0m \u001b[31m44.8 MB/s\u001b[0m eta \u001b[36m0:00:00\u001b[0m\n",
            "\u001b[2K     \u001b[90m━━━━━━━━━━━━━━━━━━━━━━━━━━━━━━━━━━━━━━━━\u001b[0m \u001b[32m43.5/43.5 kB\u001b[0m \u001b[31m5.9 MB/s\u001b[0m eta \u001b[36m0:00:00\u001b[0m\n",
            "\u001b[?25h  Preparing metadata (setup.py) ... \u001b[?25l\u001b[?25hdone\n",
            "\u001b[2K     \u001b[90m━━━━━━━━━━━━━━━━━━━━━━━━━━━━━━━━━━━━━━━━\u001b[0m \u001b[32m1.0/1.0 MB\u001b[0m \u001b[31m51.2 MB/s\u001b[0m eta \u001b[36m0:00:00\u001b[0m\n",
            "\u001b[2K     \u001b[90m━━━━━━━━━━━━━━━━━━━━━━━━━━━━━━━━━━━━━━━━\u001b[0m \u001b[32m677.1/677.1 kB\u001b[0m \u001b[31m56.0 MB/s\u001b[0m eta \u001b[36m0:00:00\u001b[0m\n",
            "\u001b[2K     \u001b[90m━━━━━━━━━━━━━━━━━━━━━━━━━━━━━━━━━━━━━━━━\u001b[0m \u001b[32m5.4/5.4 MB\u001b[0m \u001b[31m57.3 MB/s\u001b[0m eta \u001b[36m0:00:00\u001b[0m\n",
            "\u001b[?25h  Preparing metadata (setup.py) ... \u001b[?25l\u001b[?25hdone\n",
            "  Preparing metadata (setup.py) ... \u001b[?25l\u001b[?25hdone\n",
            "\u001b[2K     \u001b[90m━━━━━━━━━━━━━━━━━━━━━━━━━━━━━━━━━━━━━━━━\u001b[0m \u001b[32m300.4/300.4 kB\u001b[0m \u001b[31m31.6 MB/s\u001b[0m eta \u001b[36m0:00:00\u001b[0m\n",
            "\u001b[?25h  Building wheel for crcmod (setup.py) ... \u001b[?25l\u001b[?25hdone\n",
            "  Building wheel for dill (setup.py) ... \u001b[?25l\u001b[?25hdone\n",
            "  Building wheel for hdfs (setup.py) ... \u001b[?25l\u001b[?25hdone\n",
            "  Building wheel for pyjsparser (setup.py) ... \u001b[?25l\u001b[?25hdone\n",
            "  Building wheel for docopt (setup.py) ... \u001b[?25l\u001b[?25hdone\n"
          ]
        }
      ],
      "source": [
        "!pip install -q apache-beam"
      ]
    },
    {
      "cell_type": "code",
      "source": [
        "import apache_beam as beam\n",
        "p1 = beam.Pipeline()\n",
        "lines =(\n",
        "    p1\n",
        "    # Creating List\n",
        "    |beam.Create(['a','b','c','d','e'])\n",
        "    |beam.io.WriteToText('data/output01')\n",
        ")\n",
        "p1.run()\n",
        "# Visualize the output\n",
        "!{('head -n 20 data/output01-00000-of-00001')}"
      ],
      "metadata": {
        "colab": {
          "base_uri": "https://localhost:8080/"
        },
        "id": "3AP3Qrfeqhuh",
        "outputId": "fb240e94-3347-414b-8023-dea9b2455f81"
      },
      "execution_count": 6,
      "outputs": [
        {
          "output_type": "stream",
          "name": "stderr",
          "text": [
            "WARNING:apache_beam.io.filebasedsink:Deleting 1 existing files in target path matching: -*-of-%(num_shards)05d\n"
          ]
        },
        {
          "output_type": "stream",
          "name": "stdout",
          "text": [
            "a\n",
            "b\n",
            "c\n",
            "d\n",
            "e\n"
          ]
        }
      ]
    },
    {
      "cell_type": "code",
      "source": [
        "import apache_beam as beam\n",
        "p1 = beam.Pipeline()\n",
        "lines =(\n",
        "    p1\n",
        "    #Creating Tuple\n",
        "    |beam.Create([('a',1),('b',2),('c',3),('d',4),('e',5)])\n",
        "    |beam.io.WriteToText('data/output02')\n",
        ")\n",
        "p1.run()\n",
        "# Visualize the output\n",
        "!{('head -n 20 data/output02-00000-of-00001')}"
      ],
      "metadata": {
        "colab": {
          "base_uri": "https://localhost:8080/"
        },
        "id": "-K-nZH40sdJX",
        "outputId": "641f197c-e67d-4286-d8aa-2c89b5df717b"
      },
      "execution_count": 7,
      "outputs": [
        {
          "output_type": "stream",
          "name": "stdout",
          "text": [
            "('a', 1)\n",
            "('b', 2)\n",
            "('c', 3)\n",
            "('d', 4)\n",
            "('e', 5)\n"
          ]
        }
      ]
    },
    {
      "cell_type": "code",
      "source": [
        "import apache_beam as beam\n",
        "#custom function to be used on dictionary\n",
        "def dic_cal(tempdt):\n",
        "  retdt = {}\n",
        "  for k, v in tempdt.items():\n",
        "    retdt[k]= [i*3 for i in v]\n",
        "  return retdt\n",
        "\n",
        "def tup_cal(temptup):\n",
        "  return (temptup[0],[i*3 for i in temptup[1]])\n",
        "\n",
        "p1 = beam.Pipeline()\n",
        "lines =(\n",
        "    p1\n",
        "    #Creating Dictionary\n",
        "    |beam.Create({'a':[1,2,3,4,5],\n",
        "     'b':[5,6,7,8],\n",
        "      'c':[3,7,8,9,10],\n",
        "       'd':[4,7,2,3,1],\n",
        "        'e':[5,9,5,6,2,15]})\n",
        "    |beam.Map(lambda record: tup_cal(record))\n",
        "    #|beam.Map(lambda element: element)\n",
        "    |beam.io.WriteToText('data/output03')\n",
        ")\n",
        "p1.run()\n",
        "# Visualize the output\n",
        "!{('head -n 20 data/output03-00000-of-00001')}"
      ],
      "metadata": {
        "colab": {
          "base_uri": "https://localhost:8080/"
        },
        "id": "Rc1cl3C_tkyW",
        "outputId": "366bd720-a981-48f1-8d24-f52c9ca1d6bb"
      },
      "execution_count": 32,
      "outputs": [
        {
          "output_type": "stream",
          "name": "stderr",
          "text": [
            "WARNING:apache_beam.io.filebasedsink:Deleting 1 existing files in target path matching: -*-of-%(num_shards)05d\n"
          ]
        },
        {
          "output_type": "stream",
          "name": "stdout",
          "text": [
            "('a', [3, 6, 9, 12, 15])\n",
            "('b', [15, 18, 21, 24])\n",
            "('c', [9, 21, 24, 27, 30])\n",
            "('d', [12, 21, 6, 9, 3])\n",
            "('e', [15, 27, 15, 18, 6, 45])\n"
          ]
        }
      ]
    },
    {
      "cell_type": "code",
      "source": [
        "def dic_cal(tempdt):\n",
        "  retdt = {}\n",
        "  for k, v in tempdt.items():\n",
        "    retdt[k]= [i*3 for i in v]\n",
        "  return retdt\n",
        "def tup_cal(temptup):\n",
        "  return (temptup[0],[i*3 for i in temptup[1]])\n",
        "record = {'a':[1,2,3,4,5],\n",
        "     'b':[5,6,7,8],\n",
        "      'c':[3,7,8,9,10],\n",
        "       'd':[4,7,2,3,1],\n",
        "        'e':[5,9,5,6,2,15]}\n",
        "record1=('a', [1, 2, 3, 4, 5])\n",
        "#dic_cal(record)\n",
        "tup_cal(record1)"
      ],
      "metadata": {
        "colab": {
          "base_uri": "https://localhost:8080/"
        },
        "id": "CjuNopNM22f0",
        "outputId": "6b81c780-1b6b-44bb-8e6d-edb8a4e2ddfb"
      },
      "execution_count": 31,
      "outputs": [
        {
          "output_type": "execute_result",
          "data": {
            "text/plain": [
              "('a', [3, 6, 9, 12, 15])"
            ]
          },
          "metadata": {},
          "execution_count": 31
        }
      ]
    },
    {
      "cell_type": "code",
      "source": [
        "record = {'a':[1,2,3,4,5],\n",
        "     'b':[5,6,7,8],\n",
        "      'c':[3,7,8,9,10],\n",
        "       'd':[4,7,2,3,1],\n",
        "        'e':[5,9,5,6,2,15]}\n",
        "type(record)"
      ],
      "metadata": {
        "colab": {
          "base_uri": "https://localhost:8080/"
        },
        "id": "60zsqDwB3RmD",
        "outputId": "92870ce5-391f-4dcd-cb65-d3ff2aef9423"
      },
      "execution_count": 19,
      "outputs": [
        {
          "output_type": "execute_result",
          "data": {
            "text/plain": [
              "dict"
            ]
          },
          "metadata": {},
          "execution_count": 19
        }
      ]
    }
  ]
}