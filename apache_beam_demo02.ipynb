{
  "nbformat": 4,
  "nbformat_minor": 0,
  "metadata": {
    "colab": {
      "provenance": [],
      "authorship_tag": "ABX9TyMvjW+fFhfB/utXPsJOyEhg",
      "include_colab_link": true
    },
    "kernelspec": {
      "name": "python3",
      "display_name": "Python 3"
    },
    "language_info": {
      "name": "python"
    }
  },
  "cells": [
    {
      "cell_type": "markdown",
      "metadata": {
        "id": "view-in-github",
        "colab_type": "text"
      },
      "source": [
        "<a href=\"https://colab.research.google.com/github/surjit84/ApacheBeamHandsOn/blob/main/apache_beam_demo02.ipynb\" target=\"_parent\"><img src=\"https://colab.research.google.com/assets/colab-badge.svg\" alt=\"Open In Colab\"/></a>"
      ]
    },
    {
      "cell_type": "code",
      "execution_count": 4,
      "metadata": {
        "colab": {
          "base_uri": "https://localhost:8080/"
        },
        "id": "NYmA2s46pRGQ",
        "outputId": "17fd71b2-19ca-4537-ec86-9f679219596e"
      },
      "outputs": [
        {
          "output_type": "stream",
          "name": "stdout",
          "text": [
            "\u001b[2K     \u001b[90m━━━━━━━━━━━━━━━━━━━━━━━━━━━━━━━━━━━━━━━━\u001b[0m \u001b[32m14.7/14.7 MB\u001b[0m \u001b[31m28.3 MB/s\u001b[0m eta \u001b[36m0:00:00\u001b[0m\n",
            "\u001b[2K     \u001b[90m━━━━━━━━━━━━━━━━━━━━━━━━━━━━━━━━━━━━━━━━\u001b[0m \u001b[32m89.7/89.7 kB\u001b[0m \u001b[31m12.9 MB/s\u001b[0m eta \u001b[36m0:00:00\u001b[0m\n",
            "\u001b[?25h  Preparing metadata (setup.py) ... \u001b[?25l\u001b[?25hdone\n",
            "\u001b[2K     \u001b[90m━━━━━━━━━━━━━━━━━━━━━━━━━━━━━━━━━━━━━━━━\u001b[0m \u001b[32m138.7/138.7 kB\u001b[0m \u001b[31m19.8 MB/s\u001b[0m eta \u001b[36m0:00:00\u001b[0m\n",
            "\u001b[2K     \u001b[90m━━━━━━━━━━━━━━━━━━━━━━━━━━━━━━━━━━━━━━━━\u001b[0m \u001b[32m152.0/152.0 kB\u001b[0m \u001b[31m19.8 MB/s\u001b[0m eta \u001b[36m0:00:00\u001b[0m\n",
            "\u001b[?25h  Preparing metadata (setup.py) ... \u001b[?25l\u001b[?25hdone\n",
            "\u001b[2K     \u001b[90m━━━━━━━━━━━━━━━━━━━━━━━━━━━━━━━━━━━━━━━━\u001b[0m \u001b[32m3.1/3.1 MB\u001b[0m \u001b[31m44.8 MB/s\u001b[0m eta \u001b[36m0:00:00\u001b[0m\n",
            "\u001b[2K     \u001b[90m━━━━━━━━━━━━━━━━━━━━━━━━━━━━━━━━━━━━━━━━\u001b[0m \u001b[32m43.5/43.5 kB\u001b[0m \u001b[31m5.9 MB/s\u001b[0m eta \u001b[36m0:00:00\u001b[0m\n",
            "\u001b[?25h  Preparing metadata (setup.py) ... \u001b[?25l\u001b[?25hdone\n",
            "\u001b[2K     \u001b[90m━━━━━━━━━━━━━━━━━━━━━━━━━━━━━━━━━━━━━━━━\u001b[0m \u001b[32m1.0/1.0 MB\u001b[0m \u001b[31m51.2 MB/s\u001b[0m eta \u001b[36m0:00:00\u001b[0m\n",
            "\u001b[2K     \u001b[90m━━━━━━━━━━━━━━━━━━━━━━━━━━━━━━━━━━━━━━━━\u001b[0m \u001b[32m677.1/677.1 kB\u001b[0m \u001b[31m56.0 MB/s\u001b[0m eta \u001b[36m0:00:00\u001b[0m\n",
            "\u001b[2K     \u001b[90m━━━━━━━━━━━━━━━━━━━━━━━━━━━━━━━━━━━━━━━━\u001b[0m \u001b[32m5.4/5.4 MB\u001b[0m \u001b[31m57.3 MB/s\u001b[0m eta \u001b[36m0:00:00\u001b[0m\n",
            "\u001b[?25h  Preparing metadata (setup.py) ... \u001b[?25l\u001b[?25hdone\n",
            "  Preparing metadata (setup.py) ... \u001b[?25l\u001b[?25hdone\n",
            "\u001b[2K     \u001b[90m━━━━━━━━━━━━━━━━━━━━━━━━━━━━━━━━━━━━━━━━\u001b[0m \u001b[32m300.4/300.4 kB\u001b[0m \u001b[31m31.6 MB/s\u001b[0m eta \u001b[36m0:00:00\u001b[0m\n",
            "\u001b[?25h  Building wheel for crcmod (setup.py) ... \u001b[?25l\u001b[?25hdone\n",
            "  Building wheel for dill (setup.py) ... \u001b[?25l\u001b[?25hdone\n",
            "  Building wheel for hdfs (setup.py) ... \u001b[?25l\u001b[?25hdone\n",
            "  Building wheel for pyjsparser (setup.py) ... \u001b[?25l\u001b[?25hdone\n",
            "  Building wheel for docopt (setup.py) ... \u001b[?25l\u001b[?25hdone\n"
          ]
        }
      ],
      "source": [
        "!pip install -q apache-beam"
      ]
    },
    {
      "cell_type": "code",
      "source": [
        "import apache_beam as beam\n",
        "p1 = beam.Pipeline()\n",
        "lines =(\n",
        "    p1\n",
        "    # Creating List\n",
        "    |beam.Create(['a','b','c','d','e'])\n",
        "    |beam.io.WriteToText('data/output01')\n",
        ")\n",
        "p1.run()\n",
        "# Visualize the output\n",
        "!{('head -n 20 data/output01-00000-of-00001')}"
      ],
      "metadata": {
        "colab": {
          "base_uri": "https://localhost:8080/"
        },
        "id": "3AP3Qrfeqhuh",
        "outputId": "fb240e94-3347-414b-8023-dea9b2455f81"
      },
      "execution_count": 6,
      "outputs": [
        {
          "output_type": "stream",
          "name": "stderr",
          "text": [
            "WARNING:apache_beam.io.filebasedsink:Deleting 1 existing files in target path matching: -*-of-%(num_shards)05d\n"
          ]
        },
        {
          "output_type": "stream",
          "name": "stdout",
          "text": [
            "a\n",
            "b\n",
            "c\n",
            "d\n",
            "e\n"
          ]
        }
      ]
    },
    {
      "cell_type": "code",
      "source": [
        "import apache_beam as beam\n",
        "p1 = beam.Pipeline()\n",
        "lines =(\n",
        "    p1\n",
        "    #Creating Tuple\n",
        "    |beam.Create([('a',1),('b',2),('c',3),('d',4),('e',5)])\n",
        "    |beam.io.WriteToText('data/output02')\n",
        ")\n",
        "p1.run()\n",
        "# Visualize the output\n",
        "!{('head -n 20 data/output02-00000-of-00001')}"
      ],
      "metadata": {
        "colab": {
          "base_uri": "https://localhost:8080/"
        },
        "id": "-K-nZH40sdJX",
        "outputId": "641f197c-e67d-4286-d8aa-2c89b5df717b"
      },
      "execution_count": 7,
      "outputs": [
        {
          "output_type": "stream",
          "name": "stdout",
          "text": [
            "('a', 1)\n",
            "('b', 2)\n",
            "('c', 3)\n",
            "('d', 4)\n",
            "('e', 5)\n"
          ]
        }
      ]
    },
    {
      "cell_type": "code",
      "source": [
        "import apache_beam as beam\n",
        "#custom function to be used on dictionary\n",
        "def dic_cal(tempdt):\n",
        "  retdt = {}\n",
        "  for k, v in tempdt.items():\n",
        "    retdt[k]= [i*3 for i in v]\n",
        "  return retdt\n",
        "\n",
        "def tup_cal(temptup):\n",
        "  return (temptup[0],[i*3 for i in temptup[1]])\n",
        "\n",
        "p1 = beam.Pipeline()\n",
        "lines =(\n",
        "    p1\n",
        "    #Creating Dictionary\n",
        "    |beam.Create({'a':[1,2,3,4,5],\n",
        "     'b':[5,6,7,8],\n",
        "      'c':[3,7,8,9,10],\n",
        "       'd':[4,7,2,3,1],\n",
        "        'e':[5,9,5,6,2,15]})\n",
        "    |beam.Map(lambda record: tup_cal(record))\n",
        "    #|beam.Map(lambda element: element)\n",
        "    |beam.io.WriteToText('data/output03')\n",
        ")\n",
        "p1.run()\n",
        "# Visualize the output\n",
        "!{('head -n 20 data/output03-00000-of-00001')}"
      ],
      "metadata": {
        "colab": {
          "base_uri": "https://localhost:8080/"
        },
        "id": "Rc1cl3C_tkyW",
        "outputId": "366bd720-a981-48f1-8d24-f52c9ca1d6bb"
      },
      "execution_count": 32,
      "outputs": [
        {
          "output_type": "stream",
          "name": "stderr",
          "text": [
            "WARNING:apache_beam.io.filebasedsink:Deleting 1 existing files in target path matching: -*-of-%(num_shards)05d\n"
          ]
        },
        {
          "output_type": "stream",
          "name": "stdout",
          "text": [
            "('a', [3, 6, 9, 12, 15])\n",
            "('b', [15, 18, 21, 24])\n",
            "('c', [9, 21, 24, 27, 30])\n",
            "('d', [12, 21, 6, 9, 3])\n",
            "('e', [15, 27, 15, 18, 6, 45])\n"
          ]
        }
      ]
    },
    {
      "cell_type": "code",
      "source": [
        "def dic_cal(tempdt):\n",
        "  retdt = {}\n",
        "  for k, v in tempdt.items():\n",
        "    retdt[k]= [i*3 for i in v]\n",
        "  return retdt\n",
        "def tup_cal(temptup):\n",
        "  return (temptup[0],[i*3 for i in temptup[1]])\n",
        "record = {'a':[1,2,3,4,5],\n",
        "     'b':[5,6,7,8],\n",
        "      'c':[3,7,8,9,10],\n",
        "       'd':[4,7,2,3,1],\n",
        "        'e':[5,9,5,6,2,15]}\n",
        "record1=('a', [1, 2, 3, 4, 5])\n",
        "#dic_cal(record)\n",
        "tup_cal(record1)"
      ],
      "metadata": {
        "colab": {
          "base_uri": "https://localhost:8080/"
        },
        "id": "CjuNopNM22f0",
        "outputId": "6b81c780-1b6b-44bb-8e6d-edb8a4e2ddfb"
      },
      "execution_count": 31,
      "outputs": [
        {
          "output_type": "execute_result",
          "data": {
            "text/plain": [
              "('a', [3, 6, 9, 12, 15])"
            ]
          },
          "metadata": {},
          "execution_count": 31
        }
      ]
    },
    {
      "cell_type": "code",
      "source": [
        "record = {'a':[1,2,3,4,5],\n",
        "     'b':[5,6,7,8],\n",
        "      'c':[3,7,8,9,10],\n",
        "       'd':[4,7,2,3,1],\n",
        "        'e':[5,9,5,6,2,15]}\n",
        "type(record)"
      ],
      "metadata": {
        "colab": {
          "base_uri": "https://localhost:8080/"
        },
        "id": "60zsqDwB3RmD",
        "outputId": "92870ce5-391f-4dcd-cb65-d3ff2aef9423"
      },
      "execution_count": 19,
      "outputs": [
        {
          "output_type": "execute_result",
          "data": {
            "text/plain": [
              "dict"
            ]
          },
          "metadata": {},
          "execution_count": 19
        }
      ]
    },
    {
      "cell_type": "markdown",
      "source": [
        "Branching"
      ],
      "metadata": {
        "id": "J7k2nNiePJnq"
      }
    },
    {
      "cell_type": "code",
      "source": [
        "import apache_beam as beam\n",
        "p1 = beam.Pipeline()\n",
        "input_collection =(\n",
        "    p1\n",
        "    |\"Read from Text file\" >> beam.io.ReadFromText('dept_data.txt')\n",
        "    |\"Split record with comma seperator\" >> beam.Map(lambda record: record.split(','))\n",
        ")\n",
        "attendance_count =(\n",
        "    input_collection\n",
        "    |\"Filter record for Account\" >> beam.Filter(lambda record: record[3]=='Accounts')\n",
        "    |\"Map account key with value 1\" >> beam.Map(lambda record: (record[1], 1))\n",
        "    |\"Count sum of account key\" >> beam.CombinePerKey(sum)\n",
        "    |\"Write output to account_output\" >> beam.io.WriteToText('data/account_output')\n",
        ")\n",
        "hr_count =(\n",
        "    input_collection\n",
        "    |\"Filter record for HR\" >> beam.Filter(lambda record: record[3]=='HR')\n",
        "    |\"Map hr key with value 1\" >> beam.Map(lambda record: (record[1], 1))\n",
        "    |\"Count sum of hr key\" >> beam.CombinePerKey(sum)\n",
        "    |\"Write output to hr_output\" >> beam.io.WriteToText('data/hr_output')\n",
        ")\n",
        "p1.run()"
      ],
      "metadata": {
        "colab": {
          "base_uri": "https://localhost:8080/"
        },
        "id": "8uYdd8JIPIAZ",
        "outputId": "496a5c35-3fa1-48d7-a64d-d0ab844d9443"
      },
      "execution_count": 35,
      "outputs": [
        {
          "output_type": "execute_result",
          "data": {
            "text/plain": [
              "<apache_beam.runners.portability.fn_api_runner.fn_runner.RunnerResult at 0x79cbf76adf90>"
            ]
          },
          "metadata": {},
          "execution_count": 35
        }
      ]
    },
    {
      "cell_type": "code",
      "source": [
        "print('Account count:')\n",
        "!{('head -n 20 data/account_output-00000-of-00001')}\n",
        "print('HR count:')\n",
        "!{('head -n 20 data/hr_output-00000-of-00001')}"
      ],
      "metadata": {
        "colab": {
          "base_uri": "https://localhost:8080/"
        },
        "id": "KjF5cA1hQ35q",
        "outputId": "6e782e11-e916-48c4-a1eb-3331126b66a5"
      },
      "execution_count": 37,
      "outputs": [
        {
          "output_type": "stream",
          "name": "stdout",
          "text": [
            "Account count:\n",
            "('Marco', 31)\n",
            "('Rebekah', 31)\n",
            "('Itoe', 31)\n",
            "('Edouard', 31)\n",
            "('Kyle', 62)\n",
            "('Kumiko', 31)\n",
            "('Gaston', 31)\n",
            "('Ayumi', 30)\n",
            "HR count:\n",
            "('Beryl', 62)\n",
            "('Olga', 31)\n",
            "('Leslie', 31)\n",
            "('Mindy', 31)\n",
            "('Vicky', 31)\n",
            "('Richard', 31)\n",
            "('Kirk', 31)\n",
            "('Kaori', 31)\n",
            "('Oscar', 31)\n"
          ]
        }
      ]
    },
    {
      "cell_type": "markdown",
      "source": [
        "Flatten two PCollection"
      ],
      "metadata": {
        "id": "qaYOkgIVSOrQ"
      }
    },
    {
      "cell_type": "code",
      "source": [
        "import apache_beam as beam\n",
        "p1 = beam.Pipeline()\n",
        "input_collection =(\n",
        "    p1\n",
        "    |\"Read from Text file\" >> beam.io.ReadFromText('dept_data.txt')\n",
        "    |\"Split record with comma seperator\" >> beam.Map(lambda record: record.split(','))\n",
        ")\n",
        "attendance_count =(\n",
        "    input_collection\n",
        "    |\"Filter record for Account\" >> beam.Filter(lambda record: record[3]=='Accounts')\n",
        "    |\"Map account key with value 1\" >> beam.Map(lambda record: ('Account, ' + record[1], 1))\n",
        "    |\"Count sum of account key\" >> beam.CombinePerKey(sum)\n",
        "    #|\"Write output to account_output\" >> beam.io.WriteToText('data/account_output')\n",
        ")\n",
        "hr_count =(\n",
        "    input_collection\n",
        "    |\"Filter record for HR\" >> beam.Filter(lambda record: record[3]=='HR')\n",
        "    |\"Map hr key with value 1\" >> beam.Map(lambda record: ('HR, ' + record[1], 1))\n",
        "    |\"Count sum of hr key\" >> beam.CombinePerKey(sum)\n",
        "    #|\"Write output to hr_output\" >> beam.io.WriteToText('data/hr_output')\n",
        ")\n",
        "final_output =(\n",
        "    (attendance_count,hr_count)\n",
        "    |\"Combine both\" >> beam.Flatten()\n",
        "    |\"Write combined output together\" >> beam.io.WriteToText('data/both_output')\n",
        ")\n",
        "p1.run()"
      ],
      "metadata": {
        "colab": {
          "base_uri": "https://localhost:8080/"
        },
        "id": "l6vP5wDhSNQ_",
        "outputId": "4731b2e8-0932-4ea5-fe08-f05f38ac9631"
      },
      "execution_count": 38,
      "outputs": [
        {
          "output_type": "execute_result",
          "data": {
            "text/plain": [
              "<apache_beam.runners.portability.fn_api_runner.fn_runner.RunnerResult at 0x79cc047f18a0>"
            ]
          },
          "metadata": {},
          "execution_count": 38
        }
      ]
    },
    {
      "cell_type": "code",
      "source": [
        "!{('head -n 20 data/both_output-00000-of-00001')}"
      ],
      "metadata": {
        "colab": {
          "base_uri": "https://localhost:8080/"
        },
        "id": "-BIOWEfOTVYi",
        "outputId": "aef80e92-57b9-479e-eb61-4bec1f5b7790"
      },
      "execution_count": 39,
      "outputs": [
        {
          "output_type": "stream",
          "name": "stdout",
          "text": [
            "('Account, Marco', 31)\n",
            "('Account, Rebekah', 31)\n",
            "('Account, Itoe', 31)\n",
            "('Account, Edouard', 31)\n",
            "('Account, Kyle', 62)\n",
            "('Account, Kumiko', 31)\n",
            "('Account, Gaston', 31)\n",
            "('Account, Ayumi', 30)\n",
            "('HR, Beryl', 62)\n",
            "('HR, Olga', 31)\n",
            "('HR, Leslie', 31)\n",
            "('HR, Mindy', 31)\n",
            "('HR, Vicky', 31)\n",
            "('HR, Richard', 31)\n",
            "('HR, Kirk', 31)\n",
            "('HR, Kaori', 31)\n",
            "('HR, Oscar', 31)\n"
          ]
        }
      ]
    },
    {
      "cell_type": "markdown",
      "source": [
        "ParDo and DoFn Class"
      ],
      "metadata": {
        "id": "AOz8UdU8VPcv"
      }
    },
    {
      "cell_type": "code",
      "source": [
        "import apache_beam as beam\n",
        "class SplitFn(beam.DoFn):\n",
        "  def process(self, element):\n",
        "    return [element.split(',')]\n",
        "\n",
        "class FilterAccount(beam.DoFn):\n",
        "  def process(self, element):\n",
        "    if element[3]=='Accounts':\n",
        "      return [element]\n",
        "\n",
        "class PairEmployee(beam.DoFn):\n",
        "  def process(self, element):\n",
        "    return [(element[3]+\" ,\"+element[1], 1)]\n",
        "\n",
        "class Counting(beam.DoFn):\n",
        "  def process(self, element):\n",
        "    (key, value) = element\n",
        "    return [(key, sum(value))]\n",
        "\n",
        "p1 = beam.Pipeline()\n",
        "attendance_count =(\n",
        "    p1\n",
        "    |beam.io.ReadFromText('dept_data.txt')\n",
        "    # ParDo as Custom Processor\n",
        "    |beam.ParDo(SplitFn())\n",
        "    # ParDo as Filter\n",
        "    |beam.ParDo(FilterAccount())\n",
        "    # ParDo as Map\n",
        "    |beam.ParDo(PairEmployee())\n",
        "    # Pardo to Combine key\n",
        "    |\"Group\" >> beam.GroupByKey()\n",
        "    |\"Sum Using ParDO\" >> beam.ParDo(Counting())\n",
        "    #|beam.CombinePerKey(sum)\n",
        "    |beam.io.WriteToText('data/pardo_output')\n",
        ")\n",
        "p1.run()"
      ],
      "metadata": {
        "colab": {
          "base_uri": "https://localhost:8080/"
        },
        "id": "wuRosAZMVWft",
        "outputId": "ddaa9e66-1576-4747-9380-35cf10c88348"
      },
      "execution_count": 61,
      "outputs": [
        {
          "output_type": "stream",
          "name": "stderr",
          "text": [
            "WARNING:apache_beam.io.filebasedsink:Deleting 1 existing files in target path matching: -*-of-%(num_shards)05d\n"
          ]
        },
        {
          "output_type": "execute_result",
          "data": {
            "text/plain": [
              "<apache_beam.runners.portability.fn_api_runner.fn_runner.RunnerResult at 0x79cbf70a3af0>"
            ]
          },
          "metadata": {},
          "execution_count": 61
        }
      ]
    },
    {
      "cell_type": "code",
      "source": [
        "!{('head -n 20 data/pardo_output-00000-of-00001')}"
      ],
      "metadata": {
        "colab": {
          "base_uri": "https://localhost:8080/"
        },
        "id": "I1iZrL1FWKnD",
        "outputId": "1d97c76c-f5cf-4882-85aa-7ef0b0cb26a8"
      },
      "execution_count": 62,
      "outputs": [
        {
          "output_type": "stream",
          "name": "stdout",
          "text": [
            "('Accounts ,Marco', 31)\n",
            "('Accounts ,Rebekah', 31)\n",
            "('Accounts ,Itoe', 31)\n",
            "('Accounts ,Edouard', 31)\n",
            "('Accounts ,Kyle', 62)\n",
            "('Accounts ,Kumiko', 31)\n",
            "('Accounts ,Gaston', 31)\n",
            "('Accounts ,Ayumi', 30)\n"
          ]
        }
      ]
    },
    {
      "cell_type": "markdown",
      "source": [
        "Combiner"
      ],
      "metadata": {
        "id": "89iDxrtNdJyK"
      }
    },
    {
      "cell_type": "code",
      "source": [
        "import apache_beam as beam\n",
        "p = beam.Pipeline()\n",
        "\n",
        "class AverageFn(beam.CombineFn):\n",
        "  def create_accumulator(self):\n",
        "    return (0.0,0) #Initialize Sum and Count\n",
        "  def add_input(self, sum_count, input):\n",
        "    (sum, count) = sum_count\n",
        "    return sum+input, count+1\n",
        "  def merge_accumulators(self, accumulators):\n",
        "    (ind_sum, ind_count)=zip(*accumulators)\n",
        "    return sum(ind_sum),sum(ind_count)\n",
        "  def extract_output(self, sum_count):\n",
        "    (sum, count) = sum_count\n",
        "    return sum/count if count else float('NaN')\n",
        "\n",
        "Small_Sum = (\n",
        "    p\n",
        "    |beam.Create([15,5,7,7,9,23,13,5])\n",
        "    |beam.CombineGlobally(AverageFn())\n",
        "    |'Write Result' >> beam.io.WriteToText('data/combine')\n",
        ")\n",
        "p.run()"
      ],
      "metadata": {
        "colab": {
          "base_uri": "https://localhost:8080/"
        },
        "id": "M3EPje5xdItB",
        "outputId": "604834d7-a721-47e0-a943-2e1afc8dd7d6"
      },
      "execution_count": 63,
      "outputs": [
        {
          "output_type": "execute_result",
          "data": {
            "text/plain": [
              "<apache_beam.runners.portability.fn_api_runner.fn_runner.RunnerResult at 0x79cbf69b6bc0>"
            ]
          },
          "metadata": {},
          "execution_count": 63
        }
      ]
    },
    {
      "cell_type": "code",
      "source": [
        "!{('head -n 20 data/combine-00000-of-00001')}"
      ],
      "metadata": {
        "colab": {
          "base_uri": "https://localhost:8080/"
        },
        "id": "_SCnNk8OhLaI",
        "outputId": "eda236af-7237-41aa-d290-69184d6f5fa5"
      },
      "execution_count": 64,
      "outputs": [
        {
          "output_type": "stream",
          "name": "stdout",
          "text": [
            "10.5\n"
          ]
        }
      ]
    },
    {
      "cell_type": "markdown",
      "source": [
        "Composite Transform"
      ],
      "metadata": {
        "id": "z13a0azRhxDI"
      }
    },
    {
      "cell_type": "code",
      "source": [],
      "metadata": {
        "id": "T9WqH0E0h6G0"
      },
      "execution_count": null,
      "outputs": []
    }
  ]
}