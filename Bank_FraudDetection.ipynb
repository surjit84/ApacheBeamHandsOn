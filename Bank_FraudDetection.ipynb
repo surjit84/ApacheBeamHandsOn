{
  "nbformat": 4,
  "nbformat_minor": 0,
  "metadata": {
    "colab": {
      "provenance": [],
      "mount_file_id": "1P8u3aJG9IAmxVd8AaJQG4TGWijbDYLQZ",
      "authorship_tag": "ABX9TyMQ+F5kWmdzDSUp9pm5WbcI",
      "include_colab_link": true
    },
    "kernelspec": {
      "name": "python3",
      "display_name": "Python 3"
    },
    "language_info": {
      "name": "python"
    }
  },
  "cells": [
    {
      "cell_type": "markdown",
      "metadata": {
        "id": "view-in-github",
        "colab_type": "text"
      },
      "source": [
        "<a href=\"https://colab.research.google.com/github/surjit84/ApacheBeamHandsOn/blob/main/Bank_FraudDetection.ipynb\" target=\"_parent\"><img src=\"https://colab.research.google.com/assets/colab-badge.svg\" alt=\"Open In Colab\"/></a>"
      ]
    },
    {
      "cell_type": "code",
      "execution_count": 1,
      "metadata": {
        "colab": {
          "base_uri": "https://localhost:8080/"
        },
        "id": "13imdpD7gW5W",
        "outputId": "c3f75a17-711b-4a75-f41f-b5be42d6fcc7"
      },
      "outputs": [
        {
          "output_type": "stream",
          "name": "stdout",
          "text": [
            "\u001b[2K     \u001b[90m━━━━━━━━━━━━━━━━━━━━━━━━━━━━━━━━━━━━━━━━\u001b[0m \u001b[32m14.7/14.7 MB\u001b[0m \u001b[31m58.8 MB/s\u001b[0m eta \u001b[36m0:00:00\u001b[0m\n",
            "\u001b[2K     \u001b[90m━━━━━━━━━━━━━━━━━━━━━━━━━━━━━━━━━━━━━━━━\u001b[0m \u001b[32m89.7/89.7 kB\u001b[0m \u001b[31m8.4 MB/s\u001b[0m eta \u001b[36m0:00:00\u001b[0m\n",
            "\u001b[?25h  Preparing metadata (setup.py) ... \u001b[?25l\u001b[?25hdone\n",
            "\u001b[2K     \u001b[90m━━━━━━━━━━━━━━━━━━━━━━━━━━━━━━━━━━━━━━━━\u001b[0m \u001b[32m138.7/138.7 kB\u001b[0m \u001b[31m5.4 MB/s\u001b[0m eta \u001b[36m0:00:00\u001b[0m\n",
            "\u001b[2K     \u001b[90m━━━━━━━━━━━━━━━━━━━━━━━━━━━━━━━━━━━━━━━━\u001b[0m \u001b[32m152.0/152.0 kB\u001b[0m \u001b[31m11.5 MB/s\u001b[0m eta \u001b[36m0:00:00\u001b[0m\n",
            "\u001b[?25h  Preparing metadata (setup.py) ... \u001b[?25l\u001b[?25hdone\n",
            "\u001b[2K     \u001b[90m━━━━━━━━━━━━━━━━━━━━━━━━━━━━━━━━━━━━━━━━\u001b[0m \u001b[32m3.1/3.1 MB\u001b[0m \u001b[31m44.5 MB/s\u001b[0m eta \u001b[36m0:00:00\u001b[0m\n",
            "\u001b[2K     \u001b[90m━━━━━━━━━━━━━━━━━━━━━━━━━━━━━━━━━━━━━━━━\u001b[0m \u001b[32m43.5/43.5 kB\u001b[0m \u001b[31m3.4 MB/s\u001b[0m eta \u001b[36m0:00:00\u001b[0m\n",
            "\u001b[?25h  Preparing metadata (setup.py) ... \u001b[?25l\u001b[?25hdone\n",
            "\u001b[2K     \u001b[90m━━━━━━━━━━━━━━━━━━━━━━━━━━━━━━━━━━━━━━━━\u001b[0m \u001b[32m1.0/1.0 MB\u001b[0m \u001b[31m49.1 MB/s\u001b[0m eta \u001b[36m0:00:00\u001b[0m\n",
            "\u001b[2K     \u001b[90m━━━━━━━━━━━━━━━━━━━━━━━━━━━━━━━━━━━━━━━━\u001b[0m \u001b[32m677.1/677.1 kB\u001b[0m \u001b[31m17.4 MB/s\u001b[0m eta \u001b[36m0:00:00\u001b[0m\n",
            "\u001b[2K     \u001b[90m━━━━━━━━━━━━━━━━━━━━━━━━━━━━━━━━━━━━━━━━\u001b[0m \u001b[32m5.4/5.4 MB\u001b[0m \u001b[31m91.3 MB/s\u001b[0m eta \u001b[36m0:00:00\u001b[0m\n",
            "\u001b[?25h  Preparing metadata (setup.py) ... \u001b[?25l\u001b[?25hdone\n",
            "  Preparing metadata (setup.py) ... \u001b[?25l\u001b[?25hdone\n",
            "\u001b[2K     \u001b[90m━━━━━━━━━━━━━━━━━━━━━━━━━━━━━━━━━━━━━━━━\u001b[0m \u001b[32m300.4/300.4 kB\u001b[0m \u001b[31m27.3 MB/s\u001b[0m eta \u001b[36m0:00:00\u001b[0m\n",
            "\u001b[?25h  Building wheel for crcmod (setup.py) ... \u001b[?25l\u001b[?25hdone\n",
            "  Building wheel for dill (setup.py) ... \u001b[?25l\u001b[?25hdone\n",
            "  Building wheel for hdfs (setup.py) ... \u001b[?25l\u001b[?25hdone\n",
            "  Building wheel for pyjsparser (setup.py) ... \u001b[?25l\u001b[?25hdone\n",
            "  Building wheel for docopt (setup.py) ... \u001b[?25l\u001b[?25hdone\n"
          ]
        }
      ],
      "source": [
        "!pip install -q apache-beam"
      ]
    },
    {
      "cell_type": "code",
      "source": [
        "import apache_beam as beam\n",
        "\n",
        "# for datetime manipulation\n",
        "from datetime import datetime\n",
        "\n",
        "p = beam.Pipeline()\n",
        "\n",
        "def calculate_points(element):\n",
        "\n",
        "  customer_id, first_name, last_name, realtionship_id, card_type, max_limit, spent, cash_withdrawn,payment_cleared,payment_date = element.split(',')\n",
        "  #[CT28383,Miyako,Burns,R_7488,Issuers,500,490,38,101,30-01-2018]\n",
        "\n",
        "  spent = int(spent)    # spent = 490\n",
        "  payment_cleared = int(payment_cleared)   #payment_cleared = 101\n",
        "  max_limit = int(max_limit)               # max_limit = 500\n",
        "\n",
        "  key_name = customer_id + ', ' + first_name + ' ' + last_name     # key_name = CT28383,Miyako Burns\n",
        "  defaulter_points = 0\n",
        "\n",
        "  # payment_cleared is less than 70% of spent - give 1 point\n",
        "  if payment_cleared < (spent * 0.7):\n",
        "     defaulter_points += 1                                                # defaulter_points =  1\n",
        "\n",
        "  # spend is = 100% of max limit and any amount of payment is pending\n",
        "  if (spent == max_limit) and (payment_cleared < spent):\n",
        "     defaulter_points += 1                                                # defaulter_points =  2\n",
        "\n",
        "  if (spent == max_limit) and (payment_cleared < (spent*0.7)):\n",
        "     defaulter_points += 1                                                # defaulter_points = 3\n",
        "\n",
        "  return key_name, defaulter_points                                     # {CT28383,Miyako Burns  3}\n",
        "\n",
        "def format_result(sum_pair):\n",
        "  key_name, points = sum_pair\n",
        "  return str(key_name) + ', ' + str(points) + ' fraud_points'\n",
        "\n",
        "def calculate_late_payment(elements):               # [CT88330,Humberto,Banks,Serviceman,LN_1559,Medical Loan,26-01-2018,2000,30-01-2018]\n",
        "\n",
        "  due_date = datetime.strptime(elements[6].rstrip().lstrip(), '%d-%m-%Y')           # due_date = 26-01-2018\n",
        "  payment_date = datetime.strptime(elements[8].rstrip().lstrip(), '%d-%m-%Y')       # payment_date = 30-01-2018\n",
        "\n",
        "  if payment_date <= due_date:\n",
        "    elements.append('0')\n",
        "  else:\n",
        "    elements.append('1')                           # [CT88330,Humberto,Banks,Serviceman,LN_1559,Medical Loan,26-01-2018,2000,30-01-2018,1]\n",
        "\n",
        "  return elements\n",
        "\n",
        "def format_output(sum_pair):\n",
        "  key_name, miss_months = sum_pair\n",
        "  return str(key_name) + ', ' + str(miss_months) + ' missed'\n",
        "\n",
        "def calculate_month(input_list):        #input  [CT88330,Humberto,Banks,Serviceman,LN_1559,Medical Loan,26-01-2018, 2000, 30-01-2018]\n",
        "\n",
        "  # Convert payment_date to datetime and extract month of payment\n",
        "  payment_date = datetime.strptime(input_list[8].rstrip().lstrip(), '%d-%m-%Y')  # payment_date = 30-01-2018\n",
        "  input_list.append(str(payment_date.month))                                     # [CT88330,Humberto,Banks,Serviceman,LN_1559,Medical Loan,26-01-2018, 2000, 30-01-2018, 01]\n",
        "\n",
        "  return input_list\n",
        "\n",
        "def calculate_personal_loan_defaulter(input):       #input key -> CT68554,Ronald Chiki   value --> [01,05,06,07,08,09,10,11,12]\n",
        "    max_allowed_missed_months = 4\n",
        "    max_allowed_consecutive_missing = 2\n",
        "\n",
        "    name, months_list = input                                   # [CT68554,Ronald,Chiki,Serviceman,LN_8460,Personal Loan,25-01-2018,50000,25-01-2018]\n",
        "\n",
        "    months_list.sort()\n",
        "    sorted_months = months_list                                 # sorted_months = [01,05,06,07,08,09,10,11,12]\n",
        "    total_payments = len(sorted_months)                         # total_payments = 10\n",
        "\n",
        "    missed_payments = 12 - total_payments                       # missed_payments = 2\n",
        "\n",
        "    if missed_payments > max_allowed_missed_months:             # false\n",
        "       return name, missed_payments                             #  N/A\n",
        "\n",
        "    consecutive_missed_months = 0\n",
        "\n",
        "    temp = sorted_months[0] - 1                                 # temp = 0\n",
        "    if temp > consecutive_missed_months:                        # false\n",
        "        consecutive_missed_months = temp                        #NA\n",
        "\n",
        "    temp = 12 - sorted_months[total_payments-1]\n",
        "    if temp > consecutive_missed_months:\n",
        "        consecutive_missed_months = temp                        # temp = 0\n",
        "\n",
        "    for i in range(1, len(sorted_months)):                      # [01,05,06,07,08,09,10,11,12]\n",
        "        temp = sorted_months[i] - sorted_months[i-1] -1         # temp = 5-1-1 = 3\n",
        "        if temp > consecutive_missed_months:\n",
        "            consecutive_missed_months = temp                    # consecutive_missed_months = 3\n",
        "\n",
        "    if consecutive_missed_months > max_allowed_consecutive_missing:\n",
        "       return name, consecutive_missed_months                   # CT68554,Ronald Chiki   3\n",
        "\n",
        "    return name, 0\n",
        "\n",
        "def return_tuple(element):\n",
        "  thisTuple=element.split(',')\n",
        "  return (thisTuple[0],thisTuple[1:])\n",
        "\n",
        "card_defaulter = (\n",
        "                  p\n",
        "                  | 'Read credit card data' >> beam.io.ReadFromText('/content/drive/MyDrive/data/cards.txt',skip_header_lines=1)\n",
        "                  | 'Calculate defaulter points' >> beam.Map(calculate_points)\n",
        "                  | 'Combine points for defaulters' >> beam.CombinePerKey(sum)                            # key--> CT28383,Miyako Burns   value --> 6\n",
        "                  | 'Filter card defaulters' >> beam.Filter(lambda element: element[1] > 0)\n",
        "                  | 'Format output' >> beam.Map(format_result)                                            # CT28383,Miyako Burns,6 fraud_points\n",
        "                 # | 'Write credit card data' >> beam.io.WriteToText('outputs/card_skippers')\n",
        "                  | 'tuple ' >> beam.Map(return_tuple)\n",
        "                  )\n",
        "\n",
        "medical_loan_defaulter = (\n",
        "                            p\n",
        "                            |  beam.io.ReadFromText('/content/drive/MyDrive/data/loan.txt',skip_header_lines=1)   # 1stRow--> CT88330,Humberto,Banks,Serviceman,LN_1559,Medical Loan,26-01-2018, 2000, 30-01-2018\n",
        "                            | 'Split Row' >> beam.Map(lambda row : row.split(','))\n",
        "                            | 'Filter medical loan' >> beam.Filter(lambda element : (element[5]).rstrip().lstrip() == 'Medical Loan')\n",
        "                            | 'Calculate late payment' >> beam.Map(calculate_late_payment)\n",
        "                            | 'Make key value pairs' >> beam.Map(lambda elements: (elements[0] + ', ' + elements[1]+' '+elements[2], int(elements[9])) )\n",
        "                            | 'Group medical loan based on month' >> beam.CombinePerKey(sum)                       # key--> (CT88330,Humberto Banks)  value --> 7\n",
        "                            | 'Check for medical loan defaulter' >> beam.Filter(lambda element: element[1] >= 3)\n",
        "                            | 'Format medical loan output' >> beam.Map(format_output)      # CT88330,Humberto Banks,7 missed\n",
        "                         )\n",
        "\n",
        "personal_loan_defaulter = (\n",
        "                            p\n",
        "                            | 'Read' >> beam.io.ReadFromText('/content/drive/MyDrive/data/loan.txt',skip_header_lines=1)\n",
        "                            | 'Split' >> beam.Map(lambda row : row.split(','))\n",
        "                            | 'Filter personal loan' >> beam.Filter(lambda element : (element[5]).rstrip().lstrip() == 'Personal Loan')\n",
        "                            | 'Split and Append New Month Column' >> beam.Map(calculate_month)\n",
        "                            | 'Make key value pairs loan' >> beam.Map(lambda elements: (elements[0] + ', ' + elements[1]+' '+elements[2], int(elements[9])) )\n",
        "                            | 'Group personal loan based on month' >> beam.GroupByKey()                                  # CT68554,Ronald Chiki [01,05,06,07,08,09,10,11,12]\n",
        "                            | 'Check for personal loan defaulter' >> beam.Map(calculate_personal_loan_defaulter)          # CT68554,Ronald Chiki   3\n",
        "                            | 'Filter only personal loan defaulters' >> beam.Filter(lambda element: element[1] > 0)\n",
        "                            | 'Format personal loan output' >> beam.Map(format_output)        # CT68554,Ronald Chiki,3 missed\n",
        "                          )\n",
        "\n",
        "final_loan_defaulters = (\n",
        "                          ( personal_loan_defaulter, medical_loan_defaulter )\n",
        "                          | 'Combine all defaulters' >> beam.Flatten()\n",
        "                          #| 'Write all defaulters to text file' >> beam.io.WriteToText('outputs/loan_defaulters')\n",
        "                          | 'tuple for loan' >> beam.Map(return_tuple)\n",
        "                        )\n",
        "\n",
        "both_defaulters =  (\n",
        "                    {'card_defaulter': card_defaulter, 'loan_defaulter': final_loan_defaulters}\n",
        "                    | beam.CoGroupByKey()\n",
        "                    |'Write p3 results' >> beam.io.WriteToText('outputs/both')\n",
        "                   )\n",
        "\n",
        "\n",
        "p.run()"
      ],
      "metadata": {
        "colab": {
          "base_uri": "https://localhost:8080/",
          "height": 72
        },
        "id": "I3jhpbmmP4zE",
        "outputId": "b9e722f3-2615-4e9a-d163-3ce7faafe92e"
      },
      "execution_count": 2,
      "outputs": [
        {
          "output_type": "stream",
          "name": "stderr",
          "text": [
            "WARNING:apache_beam.runners.interactive.interactive_environment:Dependencies required for Interactive Beam PCollection visualization are not available, please use: `pip install apache-beam[interactive]` to install necessary dependencies to enable all data visualization features.\n"
          ]
        },
        {
          "output_type": "display_data",
          "data": {
            "application/javascript": [
              "\n",
              "        if (typeof window.interactive_beam_jquery == 'undefined') {\n",
              "          var jqueryScript = document.createElement('script');\n",
              "          jqueryScript.src = 'https://code.jquery.com/jquery-3.4.1.slim.min.js';\n",
              "          jqueryScript.type = 'text/javascript';\n",
              "          jqueryScript.onload = function() {\n",
              "            var datatableScript = document.createElement('script');\n",
              "            datatableScript.src = 'https://cdn.datatables.net/1.10.20/js/jquery.dataTables.min.js';\n",
              "            datatableScript.type = 'text/javascript';\n",
              "            datatableScript.onload = function() {\n",
              "              window.interactive_beam_jquery = jQuery.noConflict(true);\n",
              "              window.interactive_beam_jquery(document).ready(function($){\n",
              "                \n",
              "              });\n",
              "            }\n",
              "            document.head.appendChild(datatableScript);\n",
              "          };\n",
              "          document.head.appendChild(jqueryScript);\n",
              "        } else {\n",
              "          window.interactive_beam_jquery(document).ready(function($){\n",
              "            \n",
              "          });\n",
              "        }"
            ]
          },
          "metadata": {}
        },
        {
          "output_type": "execute_result",
          "data": {
            "text/plain": [
              "<apache_beam.runners.portability.fn_api_runner.fn_runner.RunnerResult at 0x7c85dd7f9bd0>"
            ]
          },
          "metadata": {},
          "execution_count": 2
        }
      ]
    },
    {
      "cell_type": "code",
      "source": [
        "!{('head -n 20 outputs/both-00000-of-00001')}"
      ],
      "metadata": {
        "colab": {
          "base_uri": "https://localhost:8080/"
        },
        "id": "0eWRHzKWR_oE",
        "outputId": "b1952708-f177-4f5b-d602-0996d3f9a754"
      },
      "execution_count": 4,
      "outputs": [
        {
          "output_type": "stream",
          "name": "stdout",
          "text": [
            "('CT28383', {'card_defaulter': [[' Miyako Burns', ' 3 fraud_points']], 'loan_defaulter': []})\n",
            "('CT74474', {'card_defaulter': [[' Nanaho Brennan', ' 3 fraud_points']], 'loan_defaulter': [[' Nanaho Brennan', ' 5 missed']]})\n",
            "('CT66322', {'card_defaulter': [[' Chris Bruce', ' 1 fraud_points']], 'loan_defaulter': [[' Chris Bruce', ' 8 missed']]})\n",
            "('CT65528', {'card_defaulter': [[' Bonnie Barlow', ' 2 fraud_points']], 'loan_defaulter': []})\n",
            "('CT84463', {'card_defaulter': [[' Isaac Bowman', ' 4 fraud_points']], 'loan_defaulter': [[' Isaac Bowman', ' 3 missed']]})\n",
            "('CT12838', {'card_defaulter': [[' Isidore Albert', ' 5 fraud_points']], 'loan_defaulter': []})\n",
            "('CT96185', {'card_defaulter': [[' Danielle Bradshaw', ' 3 fraud_points']], 'loan_defaulter': []})\n",
            "('CT74827', {'card_defaulter': [[' Hanna Boyer', ' 3 fraud_points']], 'loan_defaulter': []})\n",
            "('CT98239', {'card_defaulter': [[' Sayuri Case', ' 4 fraud_points']], 'loan_defaulter': []})\n",
            "('CT57141', {'card_defaulter': [[' Kaori Brown', ' 2 fraud_points']], 'loan_defaulter': []})\n",
            "('CT85915', {'card_defaulter': [[' Dean Becker', ' 5 fraud_points']], 'loan_defaulter': []})\n",
            "('CT86894', {'card_defaulter': [[' Miwa Carter', ' 5 fraud_points']], 'loan_defaulter': []})\n",
            "('CT33583', {'card_defaulter': [[' Odette Case', ' 4 fraud_points']], 'loan_defaulter': []})\n",
            "('CT64751', {'card_defaulter': [[' Youko Bryant', ' 3 fraud_points']], 'loan_defaulter': []})\n",
            "('CT14528', {'card_defaulter': [[' Omar Acevedo', ' 6 fraud_points']], 'loan_defaulter': []})\n",
            "('CT98422', {'card_defaulter': [[' Nicole Caldwell', ' 2 fraud_points']], 'loan_defaulter': []})\n",
            "('CT66224', {'card_defaulter': [[' Ivan Blanchard', ' 2 fraud_points']], 'loan_defaulter': []})\n",
            "('CT91012', {'card_defaulter': [[' Jerry Barron', ' 4 fraud_points']], 'loan_defaulter': []})\n",
            "('CT64089', {'card_defaulter': [[' Fay Beard', ' 4 fraud_points']], 'loan_defaulter': []})\n",
            "('CT56854', {'card_defaulter': [[' Michael Cannon', ' 4 fraud_points']], 'loan_defaulter': []})\n"
          ]
        }
      ]
    }
  ]
}